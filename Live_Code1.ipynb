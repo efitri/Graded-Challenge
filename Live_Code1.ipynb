{
  "nbformat": 4,
  "nbformat_minor": 0,
  "metadata": {
    "colab": {
      "name": "Live Code1.ipynb",
      "provenance": [],
      "collapsed_sections": []
    },
    "kernelspec": {
      "name": "python3",
      "display_name": "Python 3"
    },
    "language_info": {
      "name": "python"
    }
  },
  "cells": [
    {
      "cell_type": "markdown",
      "source": [
        ""
      ],
      "metadata": {
        "id": "lfsys3TVXyh6"
      }
    },
    {
      "cell_type": "code",
      "execution_count": 102,
      "metadata": {
        "id": "0n-SVeFfXlj7"
      },
      "outputs": [],
      "source": [
        "import numpy as np\n",
        "import pandas as pd\n",
        "import seaborn as sns\n"
      ]
    },
    {
      "cell_type": "code",
      "source": [
        "df = pd.read_csv('https://raw.githubusercontent.com/rafifaditio/Dataset/main/BMR.csv')"
      ],
      "metadata": {
        "id": "4m2ii9UTX9_j"
      },
      "execution_count": 103,
      "outputs": []
    },
    {
      "cell_type": "code",
      "source": [
        "df.head(10)"
      ],
      "metadata": {
        "colab": {
          "base_uri": "https://localhost:8080/",
          "height": 363
        },
        "id": "XsvYm2foYevt",
        "outputId": "6cd83c25-4d8f-47da-8143-9188da59ce2c"
      },
      "execution_count": 104,
      "outputs": [
        {
          "output_type": "execute_result",
          "data": {
            "text/plain": [
              "   Age  Gender  Height (cm)  Weight (kg)  Index\n",
              "0   21    Male          162           58      2\n",
              "1   44  Female          188           80      2\n",
              "2   45    Male          177           61      2\n",
              "3   50    Male          192          101      3\n",
              "4   28  Female          195           61      1\n",
              "5   25  Female          180           58      1\n",
              "6   20  Female          188          115      4\n",
              "7   25    Male          152          132      5\n",
              "8   48    Male          174          107      4\n",
              "9   29    Male          182           70      2"
            ],
            "text/html": [
              "\n",
              "  <div id=\"df-b4eabd09-f64e-4096-9acc-fd1065fdded9\">\n",
              "    <div class=\"colab-df-container\">\n",
              "      <div>\n",
              "<style scoped>\n",
              "    .dataframe tbody tr th:only-of-type {\n",
              "        vertical-align: middle;\n",
              "    }\n",
              "\n",
              "    .dataframe tbody tr th {\n",
              "        vertical-align: top;\n",
              "    }\n",
              "\n",
              "    .dataframe thead th {\n",
              "        text-align: right;\n",
              "    }\n",
              "</style>\n",
              "<table border=\"1\" class=\"dataframe\">\n",
              "  <thead>\n",
              "    <tr style=\"text-align: right;\">\n",
              "      <th></th>\n",
              "      <th>Age</th>\n",
              "      <th>Gender</th>\n",
              "      <th>Height (cm)</th>\n",
              "      <th>Weight (kg)</th>\n",
              "      <th>Index</th>\n",
              "    </tr>\n",
              "  </thead>\n",
              "  <tbody>\n",
              "    <tr>\n",
              "      <th>0</th>\n",
              "      <td>21</td>\n",
              "      <td>Male</td>\n",
              "      <td>162</td>\n",
              "      <td>58</td>\n",
              "      <td>2</td>\n",
              "    </tr>\n",
              "    <tr>\n",
              "      <th>1</th>\n",
              "      <td>44</td>\n",
              "      <td>Female</td>\n",
              "      <td>188</td>\n",
              "      <td>80</td>\n",
              "      <td>2</td>\n",
              "    </tr>\n",
              "    <tr>\n",
              "      <th>2</th>\n",
              "      <td>45</td>\n",
              "      <td>Male</td>\n",
              "      <td>177</td>\n",
              "      <td>61</td>\n",
              "      <td>2</td>\n",
              "    </tr>\n",
              "    <tr>\n",
              "      <th>3</th>\n",
              "      <td>50</td>\n",
              "      <td>Male</td>\n",
              "      <td>192</td>\n",
              "      <td>101</td>\n",
              "      <td>3</td>\n",
              "    </tr>\n",
              "    <tr>\n",
              "      <th>4</th>\n",
              "      <td>28</td>\n",
              "      <td>Female</td>\n",
              "      <td>195</td>\n",
              "      <td>61</td>\n",
              "      <td>1</td>\n",
              "    </tr>\n",
              "    <tr>\n",
              "      <th>5</th>\n",
              "      <td>25</td>\n",
              "      <td>Female</td>\n",
              "      <td>180</td>\n",
              "      <td>58</td>\n",
              "      <td>1</td>\n",
              "    </tr>\n",
              "    <tr>\n",
              "      <th>6</th>\n",
              "      <td>20</td>\n",
              "      <td>Female</td>\n",
              "      <td>188</td>\n",
              "      <td>115</td>\n",
              "      <td>4</td>\n",
              "    </tr>\n",
              "    <tr>\n",
              "      <th>7</th>\n",
              "      <td>25</td>\n",
              "      <td>Male</td>\n",
              "      <td>152</td>\n",
              "      <td>132</td>\n",
              "      <td>5</td>\n",
              "    </tr>\n",
              "    <tr>\n",
              "      <th>8</th>\n",
              "      <td>48</td>\n",
              "      <td>Male</td>\n",
              "      <td>174</td>\n",
              "      <td>107</td>\n",
              "      <td>4</td>\n",
              "    </tr>\n",
              "    <tr>\n",
              "      <th>9</th>\n",
              "      <td>29</td>\n",
              "      <td>Male</td>\n",
              "      <td>182</td>\n",
              "      <td>70</td>\n",
              "      <td>2</td>\n",
              "    </tr>\n",
              "  </tbody>\n",
              "</table>\n",
              "</div>\n",
              "      <button class=\"colab-df-convert\" onclick=\"convertToInteractive('df-b4eabd09-f64e-4096-9acc-fd1065fdded9')\"\n",
              "              title=\"Convert this dataframe to an interactive table.\"\n",
              "              style=\"display:none;\">\n",
              "        \n",
              "  <svg xmlns=\"http://www.w3.org/2000/svg\" height=\"24px\"viewBox=\"0 0 24 24\"\n",
              "       width=\"24px\">\n",
              "    <path d=\"M0 0h24v24H0V0z\" fill=\"none\"/>\n",
              "    <path d=\"M18.56 5.44l.94 2.06.94-2.06 2.06-.94-2.06-.94-.94-2.06-.94 2.06-2.06.94zm-11 1L8.5 8.5l.94-2.06 2.06-.94-2.06-.94L8.5 2.5l-.94 2.06-2.06.94zm10 10l.94 2.06.94-2.06 2.06-.94-2.06-.94-.94-2.06-.94 2.06-2.06.94z\"/><path d=\"M17.41 7.96l-1.37-1.37c-.4-.4-.92-.59-1.43-.59-.52 0-1.04.2-1.43.59L10.3 9.45l-7.72 7.72c-.78.78-.78 2.05 0 2.83L4 21.41c.39.39.9.59 1.41.59.51 0 1.02-.2 1.41-.59l7.78-7.78 2.81-2.81c.8-.78.8-2.07 0-2.86zM5.41 20L4 18.59l7.72-7.72 1.47 1.35L5.41 20z\"/>\n",
              "  </svg>\n",
              "      </button>\n",
              "      \n",
              "  <style>\n",
              "    .colab-df-container {\n",
              "      display:flex;\n",
              "      flex-wrap:wrap;\n",
              "      gap: 12px;\n",
              "    }\n",
              "\n",
              "    .colab-df-convert {\n",
              "      background-color: #E8F0FE;\n",
              "      border: none;\n",
              "      border-radius: 50%;\n",
              "      cursor: pointer;\n",
              "      display: none;\n",
              "      fill: #1967D2;\n",
              "      height: 32px;\n",
              "      padding: 0 0 0 0;\n",
              "      width: 32px;\n",
              "    }\n",
              "\n",
              "    .colab-df-convert:hover {\n",
              "      background-color: #E2EBFA;\n",
              "      box-shadow: 0px 1px 2px rgba(60, 64, 67, 0.3), 0px 1px 3px 1px rgba(60, 64, 67, 0.15);\n",
              "      fill: #174EA6;\n",
              "    }\n",
              "\n",
              "    [theme=dark] .colab-df-convert {\n",
              "      background-color: #3B4455;\n",
              "      fill: #D2E3FC;\n",
              "    }\n",
              "\n",
              "    [theme=dark] .colab-df-convert:hover {\n",
              "      background-color: #434B5C;\n",
              "      box-shadow: 0px 1px 3px 1px rgba(0, 0, 0, 0.15);\n",
              "      filter: drop-shadow(0px 1px 2px rgba(0, 0, 0, 0.3));\n",
              "      fill: #FFFFFF;\n",
              "    }\n",
              "  </style>\n",
              "\n",
              "      <script>\n",
              "        const buttonEl =\n",
              "          document.querySelector('#df-b4eabd09-f64e-4096-9acc-fd1065fdded9 button.colab-df-convert');\n",
              "        buttonEl.style.display =\n",
              "          google.colab.kernel.accessAllowed ? 'block' : 'none';\n",
              "\n",
              "        async function convertToInteractive(key) {\n",
              "          const element = document.querySelector('#df-b4eabd09-f64e-4096-9acc-fd1065fdded9');\n",
              "          const dataTable =\n",
              "            await google.colab.kernel.invokeFunction('convertToInteractive',\n",
              "                                                     [key], {});\n",
              "          if (!dataTable) return;\n",
              "\n",
              "          const docLinkHtml = 'Like what you see? Visit the ' +\n",
              "            '<a target=\"_blank\" href=https://colab.research.google.com/notebooks/data_table.ipynb>data table notebook</a>'\n",
              "            + ' to learn more about interactive tables.';\n",
              "          element.innerHTML = '';\n",
              "          dataTable['output_type'] = 'display_data';\n",
              "          await google.colab.output.renderOutput(dataTable, element);\n",
              "          const docLink = document.createElement('div');\n",
              "          docLink.innerHTML = docLinkHtml;\n",
              "          element.appendChild(docLink);\n",
              "        }\n",
              "      </script>\n",
              "    </div>\n",
              "  </div>\n",
              "  "
            ]
          },
          "metadata": {},
          "execution_count": 104
        }
      ]
    },
    {
      "cell_type": "code",
      "source": [
        "df['Height (cm)']"
      ],
      "metadata": {
        "colab": {
          "base_uri": "https://localhost:8080/"
        },
        "id": "LPKxTYcKtLG9",
        "outputId": "fb664567-3e38-4df8-f1e9-be443419cde5"
      },
      "execution_count": 105,
      "outputs": [
        {
          "output_type": "execute_result",
          "data": {
            "text/plain": [
              "0      162\n",
              "1      188\n",
              "2      177\n",
              "3      192\n",
              "4      195\n",
              "      ... \n",
              "145    142\n",
              "146    162\n",
              "147    174\n",
              "148    197\n",
              "149    198\n",
              "Name: Height (cm), Length: 150, dtype: int64"
            ]
          },
          "metadata": {},
          "execution_count": 105
        }
      ]
    },
    {
      "cell_type": "code",
      "source": [
        "df.index"
      ],
      "metadata": {
        "colab": {
          "base_uri": "https://localhost:8080/"
        },
        "id": "09oy7yq5ZX-r",
        "outputId": "86147bf3-9a56-482a-accf-1630e84a7cdb"
      },
      "execution_count": 106,
      "outputs": [
        {
          "output_type": "execute_result",
          "data": {
            "text/plain": [
              "RangeIndex(start=0, stop=150, step=1)"
            ]
          },
          "metadata": {},
          "execution_count": 106
        }
      ]
    },
    {
      "cell_type": "code",
      "source": [
        "print(type(df.values))"
      ],
      "metadata": {
        "colab": {
          "base_uri": "https://localhost:8080/"
        },
        "id": "VBWIqrO9jTem",
        "outputId": "ccec81b0-6da6-4066-fcca-d7cd4148eb73"
      },
      "execution_count": 107,
      "outputs": [
        {
          "output_type": "stream",
          "name": "stdout",
          "text": [
            "<class 'numpy.ndarray'>\n"
          ]
        }
      ]
    },
    {
      "cell_type": "code",
      "source": [
        "df.isnull().sum"
      ],
      "metadata": {
        "colab": {
          "base_uri": "https://localhost:8080/"
        },
        "id": "sOQ3oWN4jxoy",
        "outputId": "6a0fecbb-f2ae-4aa9-ef65-846683e0b68b"
      },
      "execution_count": 108,
      "outputs": [
        {
          "output_type": "execute_result",
          "data": {
            "text/plain": [
              "<bound method NDFrame._add_numeric_operations.<locals>.sum of        Age  Gender  Height (cm)  Weight (kg)  Index\n",
              "0    False   False        False        False  False\n",
              "1    False   False        False        False  False\n",
              "2    False   False        False        False  False\n",
              "3    False   False        False        False  False\n",
              "4    False   False        False        False  False\n",
              "..     ...     ...          ...          ...    ...\n",
              "145  False   False        False        False  False\n",
              "146  False   False        False        False  False\n",
              "147  False   False        False        False  False\n",
              "148  False   False        False        False  False\n",
              "149  False   False        False        False  False\n",
              "\n",
              "[150 rows x 5 columns]>"
            ]
          },
          "metadata": {},
          "execution_count": 108
        }
      ]
    },
    {
      "cell_type": "code",
      "source": [
        "df['Gender'].value_counts()"
      ],
      "metadata": {
        "colab": {
          "base_uri": "https://localhost:8080/"
        },
        "id": "M6NgCtTEj6Gz",
        "outputId": "9453aa8f-84e4-40da-f12c-f60b6082b775"
      },
      "execution_count": 109,
      "outputs": [
        {
          "output_type": "execute_result",
          "data": {
            "text/plain": [
              "Male      77\n",
              "Female    73\n",
              "Name: Gender, dtype: int64"
            ]
          },
          "metadata": {},
          "execution_count": 109
        }
      ]
    },
    {
      "cell_type": "code",
      "source": [
        "df.values"
      ],
      "metadata": {
        "colab": {
          "base_uri": "https://localhost:8080/"
        },
        "id": "CZGfeOnqrjjc",
        "outputId": "0bf47c9e-9786-4c4d-ce91-8c89fbff2ab1"
      },
      "execution_count": 110,
      "outputs": [
        {
          "output_type": "execute_result",
          "data": {
            "text/plain": [
              "array([[21, 'Male', 162, 58, 2],\n",
              "       [44, 'Female', 188, 80, 2],\n",
              "       [45, 'Male', 177, 61, 2],\n",
              "       [50, 'Male', 192, 101, 3],\n",
              "       [28, 'Female', 195, 61, 1],\n",
              "       [25, 'Female', 180, 58, 1],\n",
              "       [20, 'Female', 188, 115, 4],\n",
              "       [25, 'Male', 152, 132, 5],\n",
              "       [48, 'Male', 174, 107, 4],\n",
              "       [29, 'Male', 182, 70, 2],\n",
              "       [26, 'Female', 181, 94, 3],\n",
              "       [35, 'Male', 185, 60, 1],\n",
              "       [35, 'Female', 190, 118, 4],\n",
              "       [39, 'Female', 162, 64, 2],\n",
              "       [42, 'Male', 179, 56, 1],\n",
              "       [36, 'Male', 184, 57, 1],\n",
              "       [33, 'Female', 197, 154, 4],\n",
              "       [33, 'Female', 198, 50, 0],\n",
              "       [33, 'Male', 155, 51, 2],\n",
              "       [44, 'Female', 190, 50, 0],\n",
              "       [25, 'Male', 174, 90, 3],\n",
              "       [39, 'Male', 166, 61, 2],\n",
              "       [20, 'Female', 193, 61, 1],\n",
              "       [38, 'Female', 186, 127, 4],\n",
              "       [36, 'Female', 181, 80, 2],\n",
              "       [25, 'Male', 178, 117, 4],\n",
              "       [35, 'Male', 186, 68, 2],\n",
              "       [36, 'Female', 192, 90, 2],\n",
              "       [40, 'Male', 190, 95, 3],\n",
              "       [40, 'Female', 191, 54, 0],\n",
              "       [38, 'Male', 190, 80, 2],\n",
              "       [35, 'Male', 188, 54, 0],\n",
              "       [36, 'Male', 156, 137, 5],\n",
              "       [40, 'Male', 191, 62, 1],\n",
              "       [34, 'Male', 188, 100, 3],\n",
              "       [48, 'Female', 172, 62, 2],\n",
              "       [22, 'Female', 175, 83, 2],\n",
              "       [23, 'Female', 150, 60, 3],\n",
              "       [45, 'Female', 169, 88, 2],\n",
              "       [45, 'Female', 176, 54, 1],\n",
              "       [26, 'Female', 159, 80, 4],\n",
              "       [41, 'Female', 185, 52, 0],\n",
              "       [24, 'Male', 167, 151, 5],\n",
              "       [38, 'Female', 156, 52, 2],\n",
              "       [40, 'Female', 196, 50, 0],\n",
              "       [44, 'Female', 163, 57, 0],\n",
              "       [34, 'Female', 157, 56, 2],\n",
              "       [20, 'Male', 165, 68, 2],\n",
              "       [29, 'Male', 145, 142, 5],\n",
              "       [22, 'Male', 191, 62, 1],\n",
              "       [27, 'Male', 154, 145, 5],\n",
              "       [43, 'Male', 194, 115, 4],\n",
              "       [24, 'Female', 183, 50, 0],\n",
              "       [26, 'Female', 179, 158, 5],\n",
              "       [26, 'Female', 165, 57, 2],\n",
              "       [21, 'Male', 190, 50, 0],\n",
              "       [33, 'Male', 176, 77, 2],\n",
              "       [30, 'Female', 174, 65, 2],\n",
              "       [40, 'Female', 163, 63, 2],\n",
              "       [46, 'Male', 167, 64, 2],\n",
              "       [21, 'Female', 178, 65, 2],\n",
              "       [22, 'Male', 159, 140, 5],\n",
              "       [46, 'Female', 164, 59, 2],\n",
              "       [42, 'Female', 150, 50, 2],\n",
              "       [47, 'Male', 184, 83, 2],\n",
              "       [45, 'Male', 182, 73, 2],\n",
              "       [37, 'Female', 148, 54, 2],\n",
              "       [31, 'Male', 187, 62, 1],\n",
              "       [33, 'Female', 183, 79, 2],\n",
              "       [26, 'Male', 157, 56, 2],\n",
              "       [22, 'Male', 195, 81, 2],\n",
              "       [44, 'Female', 160, 51, 2],\n",
              "       [48, 'Male', 178, 52, 1],\n",
              "       [44, 'Male', 195, 69, 1],\n",
              "       [44, 'Male', 141, 86, 5],\n",
              "       [26, 'Female', 189, 132, 4],\n",
              "       [30, 'Male', 179, 110, 4],\n",
              "       [33, 'Female', 145, 79, 4],\n",
              "       [36, 'Male', 193, 54, 0],\n",
              "       [24, 'Male', 147, 84, 4],\n",
              "       [28, 'Male', 181, 78, 2],\n",
              "       [29, 'Female', 171, 131, 5],\n",
              "       [20, 'Male', 154, 54, 2],\n",
              "       [39, 'Male', 188, 123, 4],\n",
              "       [20, 'Male', 158, 95, 4],\n",
              "       [27, 'Male', 187, 138, 4],\n",
              "       [23, 'Male', 182, 50, 0],\n",
              "       [38, 'Male', 189, 87, 2],\n",
              "       [28, 'Female', 184, 86, 3],\n",
              "       [26, 'Male', 168, 158, 5],\n",
              "       [33, 'Male', 196, 69, 1],\n",
              "       [40, 'Male', 180, 75, 2],\n",
              "       [39, 'Female', 168, 59, 2],\n",
              "       [24, 'Female', 167, 58, 2],\n",
              "       [43, 'Male', 155, 57, 2],\n",
              "       [50, 'Female', 179, 67, 2],\n",
              "       [35, 'Female', 153, 78, 2],\n",
              "       [40, 'Female', 184, 76, 2],\n",
              "       [35, 'Female', 180, 59, 1],\n",
              "       [37, 'Female', 191, 68, 2],\n",
              "       [29, 'Female', 180, 60, 2],\n",
              "       [37, 'Male', 172, 105, 4],\n",
              "       [44, 'Female', 156, 106, 5],\n",
              "       [47, 'Female', 172, 90, 4],\n",
              "       [48, 'Male', 166, 70, 3],\n",
              "       [27, 'Female', 157, 52, 2],\n",
              "       [46, 'Female', 177, 81, 3],\n",
              "       [40, 'Male', 197, 88, 2],\n",
              "       [37, 'Female', 153, 51, 2],\n",
              "       [31, 'Male', 154, 112, 5],\n",
              "       [31, 'Male', 165, 62, 2],\n",
              "       [23, 'Male', 191, 79, 2],\n",
              "       [34, 'Female', 151, 55, 2],\n",
              "       [48, 'Female', 195, 65, 1],\n",
              "       [41, 'Male', 161, 115, 5],\n",
              "       [34, 'Female', 199, 92, 2],\n",
              "       [29, 'Male', 188, 57, 1],\n",
              "       [23, 'Female', 169, 97, 4],\n",
              "       [45, 'Male', 193, 65, 1],\n",
              "       [23, 'Male', 199, 99, 2],\n",
              "       [27, 'Male', 168, 50, 1],\n",
              "       [42, 'Male', 148, 60, 3],\n",
              "       [39, 'Female', 183, 76, 2],\n",
              "       [33, 'Male', 188, 65, 1],\n",
              "       [36, 'Male', 180, 73, 2],\n",
              "       [32, 'Male', 181, 51, 0],\n",
              "       [29, 'Female', 153, 77, 4],\n",
              "       [43, 'Female', 173, 82, 2],\n",
              "       [49, 'Female', 187, 70, 2],\n",
              "       [40, 'Female', 185, 81, 2],\n",
              "       [39, 'Female', 157, 60, 2],\n",
              "       [30, 'Male', 187, 80, 2],\n",
              "       [43, 'Female', 169, 54, 2],\n",
              "       [45, 'Male', 190, 83, 2],\n",
              "       [27, 'Male', 185, 76, 2],\n",
              "       [33, 'Female', 180, 70, 2],\n",
              "       [24, 'Female', 178, 79, 2],\n",
              "       [39, 'Female', 170, 53, 1],\n",
              "       [27, 'Male', 188, 81, 2],\n",
              "       [26, 'Male', 179, 56, 1],\n",
              "       [37, 'Female', 177, 61, 2],\n",
              "       [38, 'Male', 199, 156, 4],\n",
              "       [35, 'Male', 154, 111, 5],\n",
              "       [24, 'Female', 172, 67, 2],\n",
              "       [29, 'Female', 169, 103, 4],\n",
              "       [33, 'Male', 142, 71, 4],\n",
              "       [32, 'Female', 162, 58, 2],\n",
              "       [29, 'Male', 174, 54, 1],\n",
              "       [33, 'Female', 197, 72, 2],\n",
              "       [23, 'Male', 198, 50, 0]], dtype=object)"
            ]
          },
          "metadata": {},
          "execution_count": 110
        }
      ]
    },
    {
      "cell_type": "code",
      "source": [
        "df_tips = sns.load_dataset('tips')"
      ],
      "metadata": {
        "id": "Q_V4yGmOkt1_"
      },
      "execution_count": 111,
      "outputs": []
    },
    {
      "cell_type": "code",
      "source": [
        "def BMR_LAKI(BB,TB,U):\n",
        "    BMR_laki_laki= {66 + (13.7*BB)+(5*TB)-(6.8*U)}\n",
        "    return BMR_laki_laki         "
      ],
      "metadata": {
        "id": "FuK8Ss17a6Wj"
      },
      "execution_count": 124,
      "outputs": []
    },
    {
      "cell_type": "code",
      "source": [
        "BMR_LAKI(58,162,21)"
      ],
      "metadata": {
        "colab": {
          "base_uri": "https://localhost:8080/"
        },
        "id": "FkHukAe1h0Nl",
        "outputId": "0fe0d63c-3015-49b3-8310-f39fef7d0e57"
      },
      "execution_count": 125,
      "outputs": [
        {
          "output_type": "execute_result",
          "data": {
            "text/plain": [
              "{1527.8}"
            ]
          },
          "metadata": {},
          "execution_count": 125
        }
      ]
    },
    {
      "cell_type": "code",
      "source": [
        "def BMR_PEREMPUAN(BB,TB,U):\n",
        "  BMR_perempuan = 655 + (9.6*BB) + (1.8*TB)-(4.7*U)\n",
        "  return BMR_perempuan"
      ],
      "metadata": {
        "id": "YKyI4Yq31i6D"
      },
      "execution_count": 126,
      "outputs": []
    },
    {
      "cell_type": "code",
      "source": [
        "BMR_PEREMPUAN(58,162,21)"
      ],
      "metadata": {
        "colab": {
          "base_uri": "https://localhost:8080/"
        },
        "id": "ZO2kF05h19dX",
        "outputId": "02d280f4-4b62-43ec-d9bf-ec689d4d6e98"
      },
      "execution_count": 127,
      "outputs": [
        {
          "output_type": "execute_result",
          "data": {
            "text/plain": [
              "1404.7"
            ]
          },
          "metadata": {},
          "execution_count": 127
        }
      ]
    },
    {
      "cell_type": "code",
      "source": [
        "for i in range(len(df)):\n",
        "    print(df.iloc[i, 0], df.iloc[i, 2])"
      ],
      "metadata": {
        "colab": {
          "base_uri": "https://localhost:8080/"
        },
        "id": "eKBFPT9C3lqD",
        "outputId": "82e8fdce-bca9-40c4-d1e6-a7d9e771ab4d"
      },
      "execution_count": 128,
      "outputs": [
        {
          "output_type": "stream",
          "name": "stdout",
          "text": [
            "21 162\n",
            "44 188\n",
            "45 177\n",
            "50 192\n",
            "28 195\n",
            "25 180\n",
            "20 188\n",
            "25 152\n",
            "48 174\n",
            "29 182\n",
            "26 181\n",
            "35 185\n",
            "35 190\n",
            "39 162\n",
            "42 179\n",
            "36 184\n",
            "33 197\n",
            "33 198\n",
            "33 155\n",
            "44 190\n",
            "25 174\n",
            "39 166\n",
            "20 193\n",
            "38 186\n",
            "36 181\n",
            "25 178\n",
            "35 186\n",
            "36 192\n",
            "40 190\n",
            "40 191\n",
            "38 190\n",
            "35 188\n",
            "36 156\n",
            "40 191\n",
            "34 188\n",
            "48 172\n",
            "22 175\n",
            "23 150\n",
            "45 169\n",
            "45 176\n",
            "26 159\n",
            "41 185\n",
            "24 167\n",
            "38 156\n",
            "40 196\n",
            "44 163\n",
            "34 157\n",
            "20 165\n",
            "29 145\n",
            "22 191\n",
            "27 154\n",
            "43 194\n",
            "24 183\n",
            "26 179\n",
            "26 165\n",
            "21 190\n",
            "33 176\n",
            "30 174\n",
            "40 163\n",
            "46 167\n",
            "21 178\n",
            "22 159\n",
            "46 164\n",
            "42 150\n",
            "47 184\n",
            "45 182\n",
            "37 148\n",
            "31 187\n",
            "33 183\n",
            "26 157\n",
            "22 195\n",
            "44 160\n",
            "48 178\n",
            "44 195\n",
            "44 141\n",
            "26 189\n",
            "30 179\n",
            "33 145\n",
            "36 193\n",
            "24 147\n",
            "28 181\n",
            "29 171\n",
            "20 154\n",
            "39 188\n",
            "20 158\n",
            "27 187\n",
            "23 182\n",
            "38 189\n",
            "28 184\n",
            "26 168\n",
            "33 196\n",
            "40 180\n",
            "39 168\n",
            "24 167\n",
            "43 155\n",
            "50 179\n",
            "35 153\n",
            "40 184\n",
            "35 180\n",
            "37 191\n",
            "29 180\n",
            "37 172\n",
            "44 156\n",
            "47 172\n",
            "48 166\n",
            "27 157\n",
            "46 177\n",
            "40 197\n",
            "37 153\n",
            "31 154\n",
            "31 165\n",
            "23 191\n",
            "34 151\n",
            "48 195\n",
            "41 161\n",
            "34 199\n",
            "29 188\n",
            "23 169\n",
            "45 193\n",
            "23 199\n",
            "27 168\n",
            "42 148\n",
            "39 183\n",
            "33 188\n",
            "36 180\n",
            "32 181\n",
            "29 153\n",
            "43 173\n",
            "49 187\n",
            "40 185\n",
            "39 157\n",
            "30 187\n",
            "43 169\n",
            "45 190\n",
            "27 185\n",
            "33 180\n",
            "24 178\n",
            "39 170\n",
            "27 188\n",
            "26 179\n",
            "37 177\n",
            "38 199\n",
            "35 154\n",
            "24 172\n",
            "29 169\n",
            "33 142\n",
            "32 162\n",
            "29 174\n",
            "33 197\n",
            "23 198\n"
          ]
        }
      ]
    },
    {
      "cell_type": "code",
      "source": [
        "df[\"BMR\"] = 66 + (13.7 * df[\"Weight (kg)\"] ) + (5*df[\"Height (cm)\"] - (6.8 * df[\"Age\"]))\n",
        "df\n",
        "if gender ="
      ],
      "metadata": {
        "id": "CYWTFFdvrU-g",
        "colab": {
          "base_uri": "https://localhost:8080/",
          "height": 424
        },
        "outputId": "6c11e125-a0cb-4d35-ed40-f6aba540051f"
      },
      "execution_count": 113,
      "outputs": [
        {
          "output_type": "execute_result",
          "data": {
            "text/plain": [
              "     Age  Gender  Height (cm)  Weight (kg)  Index     BMR\n",
              "0     21    Male          162           58      2  1527.8\n",
              "1     44  Female          188           80      2  1802.8\n",
              "2     45    Male          177           61      2  1480.7\n",
              "3     50    Male          192          101      3  2069.7\n",
              "4     28  Female          195           61      1  1686.3\n",
              "..   ...     ...          ...          ...    ...     ...\n",
              "145   33    Male          142           71      4  1524.3\n",
              "146   32  Female          162           58      2  1453.0\n",
              "147   29    Male          174           54      1  1478.6\n",
              "148   33  Female          197           72      2  1813.0\n",
              "149   23    Male          198           50      0  1584.6\n",
              "\n",
              "[150 rows x 6 columns]"
            ],
            "text/html": [
              "\n",
              "  <div id=\"df-a6ed6e34-d357-446c-a501-8b0aa44e0fd6\">\n",
              "    <div class=\"colab-df-container\">\n",
              "      <div>\n",
              "<style scoped>\n",
              "    .dataframe tbody tr th:only-of-type {\n",
              "        vertical-align: middle;\n",
              "    }\n",
              "\n",
              "    .dataframe tbody tr th {\n",
              "        vertical-align: top;\n",
              "    }\n",
              "\n",
              "    .dataframe thead th {\n",
              "        text-align: right;\n",
              "    }\n",
              "</style>\n",
              "<table border=\"1\" class=\"dataframe\">\n",
              "  <thead>\n",
              "    <tr style=\"text-align: right;\">\n",
              "      <th></th>\n",
              "      <th>Age</th>\n",
              "      <th>Gender</th>\n",
              "      <th>Height (cm)</th>\n",
              "      <th>Weight (kg)</th>\n",
              "      <th>Index</th>\n",
              "      <th>BMR</th>\n",
              "    </tr>\n",
              "  </thead>\n",
              "  <tbody>\n",
              "    <tr>\n",
              "      <th>0</th>\n",
              "      <td>21</td>\n",
              "      <td>Male</td>\n",
              "      <td>162</td>\n",
              "      <td>58</td>\n",
              "      <td>2</td>\n",
              "      <td>1527.8</td>\n",
              "    </tr>\n",
              "    <tr>\n",
              "      <th>1</th>\n",
              "      <td>44</td>\n",
              "      <td>Female</td>\n",
              "      <td>188</td>\n",
              "      <td>80</td>\n",
              "      <td>2</td>\n",
              "      <td>1802.8</td>\n",
              "    </tr>\n",
              "    <tr>\n",
              "      <th>2</th>\n",
              "      <td>45</td>\n",
              "      <td>Male</td>\n",
              "      <td>177</td>\n",
              "      <td>61</td>\n",
              "      <td>2</td>\n",
              "      <td>1480.7</td>\n",
              "    </tr>\n",
              "    <tr>\n",
              "      <th>3</th>\n",
              "      <td>50</td>\n",
              "      <td>Male</td>\n",
              "      <td>192</td>\n",
              "      <td>101</td>\n",
              "      <td>3</td>\n",
              "      <td>2069.7</td>\n",
              "    </tr>\n",
              "    <tr>\n",
              "      <th>4</th>\n",
              "      <td>28</td>\n",
              "      <td>Female</td>\n",
              "      <td>195</td>\n",
              "      <td>61</td>\n",
              "      <td>1</td>\n",
              "      <td>1686.3</td>\n",
              "    </tr>\n",
              "    <tr>\n",
              "      <th>...</th>\n",
              "      <td>...</td>\n",
              "      <td>...</td>\n",
              "      <td>...</td>\n",
              "      <td>...</td>\n",
              "      <td>...</td>\n",
              "      <td>...</td>\n",
              "    </tr>\n",
              "    <tr>\n",
              "      <th>145</th>\n",
              "      <td>33</td>\n",
              "      <td>Male</td>\n",
              "      <td>142</td>\n",
              "      <td>71</td>\n",
              "      <td>4</td>\n",
              "      <td>1524.3</td>\n",
              "    </tr>\n",
              "    <tr>\n",
              "      <th>146</th>\n",
              "      <td>32</td>\n",
              "      <td>Female</td>\n",
              "      <td>162</td>\n",
              "      <td>58</td>\n",
              "      <td>2</td>\n",
              "      <td>1453.0</td>\n",
              "    </tr>\n",
              "    <tr>\n",
              "      <th>147</th>\n",
              "      <td>29</td>\n",
              "      <td>Male</td>\n",
              "      <td>174</td>\n",
              "      <td>54</td>\n",
              "      <td>1</td>\n",
              "      <td>1478.6</td>\n",
              "    </tr>\n",
              "    <tr>\n",
              "      <th>148</th>\n",
              "      <td>33</td>\n",
              "      <td>Female</td>\n",
              "      <td>197</td>\n",
              "      <td>72</td>\n",
              "      <td>2</td>\n",
              "      <td>1813.0</td>\n",
              "    </tr>\n",
              "    <tr>\n",
              "      <th>149</th>\n",
              "      <td>23</td>\n",
              "      <td>Male</td>\n",
              "      <td>198</td>\n",
              "      <td>50</td>\n",
              "      <td>0</td>\n",
              "      <td>1584.6</td>\n",
              "    </tr>\n",
              "  </tbody>\n",
              "</table>\n",
              "<p>150 rows × 6 columns</p>\n",
              "</div>\n",
              "      <button class=\"colab-df-convert\" onclick=\"convertToInteractive('df-a6ed6e34-d357-446c-a501-8b0aa44e0fd6')\"\n",
              "              title=\"Convert this dataframe to an interactive table.\"\n",
              "              style=\"display:none;\">\n",
              "        \n",
              "  <svg xmlns=\"http://www.w3.org/2000/svg\" height=\"24px\"viewBox=\"0 0 24 24\"\n",
              "       width=\"24px\">\n",
              "    <path d=\"M0 0h24v24H0V0z\" fill=\"none\"/>\n",
              "    <path d=\"M18.56 5.44l.94 2.06.94-2.06 2.06-.94-2.06-.94-.94-2.06-.94 2.06-2.06.94zm-11 1L8.5 8.5l.94-2.06 2.06-.94-2.06-.94L8.5 2.5l-.94 2.06-2.06.94zm10 10l.94 2.06.94-2.06 2.06-.94-2.06-.94-.94-2.06-.94 2.06-2.06.94z\"/><path d=\"M17.41 7.96l-1.37-1.37c-.4-.4-.92-.59-1.43-.59-.52 0-1.04.2-1.43.59L10.3 9.45l-7.72 7.72c-.78.78-.78 2.05 0 2.83L4 21.41c.39.39.9.59 1.41.59.51 0 1.02-.2 1.41-.59l7.78-7.78 2.81-2.81c.8-.78.8-2.07 0-2.86zM5.41 20L4 18.59l7.72-7.72 1.47 1.35L5.41 20z\"/>\n",
              "  </svg>\n",
              "      </button>\n",
              "      \n",
              "  <style>\n",
              "    .colab-df-container {\n",
              "      display:flex;\n",
              "      flex-wrap:wrap;\n",
              "      gap: 12px;\n",
              "    }\n",
              "\n",
              "    .colab-df-convert {\n",
              "      background-color: #E8F0FE;\n",
              "      border: none;\n",
              "      border-radius: 50%;\n",
              "      cursor: pointer;\n",
              "      display: none;\n",
              "      fill: #1967D2;\n",
              "      height: 32px;\n",
              "      padding: 0 0 0 0;\n",
              "      width: 32px;\n",
              "    }\n",
              "\n",
              "    .colab-df-convert:hover {\n",
              "      background-color: #E2EBFA;\n",
              "      box-shadow: 0px 1px 2px rgba(60, 64, 67, 0.3), 0px 1px 3px 1px rgba(60, 64, 67, 0.15);\n",
              "      fill: #174EA6;\n",
              "    }\n",
              "\n",
              "    [theme=dark] .colab-df-convert {\n",
              "      background-color: #3B4455;\n",
              "      fill: #D2E3FC;\n",
              "    }\n",
              "\n",
              "    [theme=dark] .colab-df-convert:hover {\n",
              "      background-color: #434B5C;\n",
              "      box-shadow: 0px 1px 3px 1px rgba(0, 0, 0, 0.15);\n",
              "      filter: drop-shadow(0px 1px 2px rgba(0, 0, 0, 0.3));\n",
              "      fill: #FFFFFF;\n",
              "    }\n",
              "  </style>\n",
              "\n",
              "      <script>\n",
              "        const buttonEl =\n",
              "          document.querySelector('#df-a6ed6e34-d357-446c-a501-8b0aa44e0fd6 button.colab-df-convert');\n",
              "        buttonEl.style.display =\n",
              "          google.colab.kernel.accessAllowed ? 'block' : 'none';\n",
              "\n",
              "        async function convertToInteractive(key) {\n",
              "          const element = document.querySelector('#df-a6ed6e34-d357-446c-a501-8b0aa44e0fd6');\n",
              "          const dataTable =\n",
              "            await google.colab.kernel.invokeFunction('convertToInteractive',\n",
              "                                                     [key], {});\n",
              "          if (!dataTable) return;\n",
              "\n",
              "          const docLinkHtml = 'Like what you see? Visit the ' +\n",
              "            '<a target=\"_blank\" href=https://colab.research.google.com/notebooks/data_table.ipynb>data table notebook</a>'\n",
              "            + ' to learn more about interactive tables.';\n",
              "          element.innerHTML = '';\n",
              "          dataTable['output_type'] = 'display_data';\n",
              "          await google.colab.output.renderOutput(dataTable, element);\n",
              "          const docLink = document.createElement('div');\n",
              "          docLink.innerHTML = docLinkHtml;\n",
              "          element.appendChild(docLink);\n",
              "        }\n",
              "      </script>\n",
              "    </div>\n",
              "  </div>\n",
              "  "
            ]
          },
          "metadata": {},
          "execution_count": 113
        }
      ]
    },
    {
      "cell_type": "code",
      "source": [
        "if \"Gender\" "
      ],
      "metadata": {
        "id": "a_3GARqw2WSU"
      },
      "execution_count": null,
      "outputs": []
    }
  ]
}